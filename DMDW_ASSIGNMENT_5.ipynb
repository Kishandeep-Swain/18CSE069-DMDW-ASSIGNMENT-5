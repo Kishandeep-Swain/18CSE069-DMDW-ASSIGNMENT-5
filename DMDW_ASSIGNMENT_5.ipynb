{
  "nbformat": 4,
  "nbformat_minor": 0,
  "metadata": {
    "colab": {
      "name": "DMDW ASSIGNMENT 5.ipynb",
      "provenance": [],
      "authorship_tag": "ABX9TyM+AU3yyTpB6KDotWG8xRpZ",
      "include_colab_link": true
    },
    "kernelspec": {
      "name": "python3",
      "display_name": "Python 3"
    }
  },
  "cells": [
    {
      "cell_type": "markdown",
      "metadata": {
        "id": "view-in-github",
        "colab_type": "text"
      },
      "source": [
        "<a href=\"https://colab.research.google.com/github/Kishandeep-Swain/18CSE069-DMDW-ASSIGNMENT-5/blob/main/DMDW_ASSIGNMENT_5.ipynb\" target=\"_parent\"><img src=\"https://colab.research.google.com/assets/colab-badge.svg\" alt=\"Open In Colab\"/></a>"
      ]
    },
    {
      "cell_type": "code",
      "metadata": {
        "colab": {
          "base_uri": "https://localhost:8080/",
          "height": 269
        },
        "id": "7fF0MzUnDDXJ",
        "outputId": "375dfdc4-ec18-4cc5-d61f-4ab2aa6d954e"
      },
      "source": [
        "import pandas as pd\n",
        "import seaborn as sn\n",
        "import matplotlib.pyplot as plt\n",
        " \n",
        "data = {'A': [45,37,42,35,39],\n",
        "        'B': [38,31,26,28,33],\n",
        "        'C': [10,15,17,21,12]\n",
        "        }\n",
        " \n",
        "df = pd.DataFrame(data,columns=['A','B','C'])\n",
        " \n",
        "corrMatrix = df.corr()\n",
        "sn.heatmap(corrMatrix, annot=True)\n",
        "plt.show()"
      ],
      "execution_count": 1,
      "outputs": [
        {
          "output_type": "display_data",
          "data": {
            "image/png": "[encoded data removed]",
            "text/plain": [
              "<Figure size 432x288 with 2 Axes>"
            ]
          },
          "metadata": {
            "tags": [],
            "needs_background": "light"
          }
        }
      ]
    },
    {
      "cell_type": "code",
      "metadata": {
        "colab": {
          "base_uri": "https://localhost:8080/",
          "height": 300
        },
        "id": "ompjyu6LQlHZ",
        "outputId": "5eb60c83-0468-4f67-f716-b468bc8d0239"
      },
      "source": [
        "from numpy.random import randn\n",
        "from numpy.random import seed\n",
        "from numpy import cov\n",
        "from matplotlib import pyplot\n",
        "\n",
        "data1 = 20 * randn(100) + 100\n",
        "data2 = data1 + (10 * randn(100) + 50)\n",
        "\n",
        "covariance = cov(data1, data2)\n",
        "print(covariance)\n",
        "\n",
        "pyplot.scatter(data1, data2)\n",
        "pyplot.show()"
      ],
      "execution_count": 2,
      "outputs": [
        {
          "output_type": "stream",
          "text": [
            "[[420.71601851 449.88993137]\n",
            " [449.88993137 575.06595564]]\n"
          ],
          "name": "stdout"
        },
        {
          "output_type": "display_data",
          "data": {
            "image/png": "[encoded data removed]",
            "text/plain": [
              "<Figure size 432x288 with 1 Axes>"
            ]
          },
          "metadata": {
            "tags": [],
            "needs_background": "light"
          }
        }
      ]
    },
    {
      "cell_type": "code",
      "metadata": {
        "colab": {
          "base_uri": "https://localhost:8080/"
        },
        "id": "ye1mvzvNREiF",
        "outputId": "a14c7136-332b-4865-accc-f63e37eae723"
      },
      "source": [
        "import math\n",
        "Age = [23,23,27,27,39,41,47,49,50]\n",
        "fat = [9.5,26.5,7.8,17.8,31.4,25.9,27.4,27.2,31.2]\n",
        "mean_age = 0\n",
        "mean_fat = 0\n",
        "for i in range(9):\n",
        "    mean_age = mean_age + Age[i]\n",
        "    mean_fat = mean_fat + fat[i]\n",
        "mean_age = mean_age/9\n",
        "mean_fat = mean_fat/9\n",
        "\n",
        "Age1 = []\n",
        "fat1 = []\n",
        "for i in range(9):\n",
        "    Age1.append(Age[i]-mean_age)\n",
        "    fat1.append(fat[i]-mean_fat)\n",
        "Q1=0\n",
        "Q2=0\n",
        "Q=0\n",
        "for i in range(9):\n",
        "    Q1 = Q1 + Age1[i]*Age1[i]\n",
        "    Q2 = Q2 + fat1[i]*fat1[i]\n",
        "    Q = Q + Age1[i]*fat1[i]\n",
        "Q1 = math.sqrt(Q1)\n",
        "Q2 = math.sqrt(Q2)\n",
        "R = Q/(Q1*Q2)\n",
        "print(\"Corelation Coefficient is \",R)"
      ],
      "execution_count": 3,
      "outputs": [
        {
          "output_type": "stream",
          "text": [
            "Corelation Coefficient is  0.7102957400082588\n"
          ],
          "name": "stdout"
        }
      ]
    }
  ]
}